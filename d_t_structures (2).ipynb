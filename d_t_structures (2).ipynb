{
  "nbformat": 4,
  "nbformat_minor": 0,
  "metadata": {
    "colab": {
      "provenance": []
    },
    "kernelspec": {
      "name": "python3",
      "display_name": "Python 3"
    },
    "language_info": {
      "name": "python"
    }
  },
  "cells": [
    {
      "cell_type": "markdown",
      "source": [
        "#Data Types and Structures"
      ],
      "metadata": {
        "id": "p08IJD1Syv92"
      }
    },
    {
      "cell_type": "markdown",
      "source": [
        "1. What are data structures, and why are they important?\n",
        " - Data structures are ways of organizing and storing data in a computer so that it can be accessed and modified efficiently. Think of them like containers or tools designed for specific types of data-related tasks—kind of like how you'd use a toolbox with different compartments for screws, nails, and bolts.\n",
        "         why data structures are important:-\n",
        "         \n",
        " * Efficiency:\n",
        "\n",
        "    They optimize how data is stored and accessed, leading to faster processing times and reduced memory usage.\n",
        " * Organization:\n",
        "\n",
        "    They provide a structured way to arrange data, making it easier to understand and work with.\n",
        " * Problem-solving:\n",
        "\n",
        "    They are essential tools for developing algorithms that can efficiently solve problems, such as finding the shortest path in a network or sorting a large dataset.\n",
        " * Foundation for software:\n",
        "\n",
        "    Data structures are fundamental building blocks for many software applications and systems.\n",
        " * Code readability:\n",
        "\n",
        "    They can make code easier to understand and maintain by organizing data in a clear and logical way.\n",
        " * Abstract data types:\n",
        "\n",
        "    Data structures can be used to create abstract data types (ADTs), which are sets of operations that can be performed on a data structure\n",
        "\n",
        "2. Explain the difference between mutable and immutable data types with examples.\n",
        " - Mutable data types can be modified after they're created, while immutable data types cannot. Mutable examples include lists and dictionaries, while immutable examples include strings and tuples.\n",
        "\n",
        "    * Mutable Data Types\n",
        "    Mutable data types can be changed after creation. You can modify, add, or delete elements without creating a new object.\n",
        "           Examples in Python:-\n",
        "       list\n",
        "\n",
        "       dict (dictionary)\n",
        "\n",
        "       set\n",
        "\n",
        "   \n",
        "\n",
        "\n"
      ],
      "metadata": {
        "id": "u2quwPmNtIX5"
      }
    },
    {
      "cell_type": "code",
      "execution_count": null,
      "metadata": {
        "id": "_ghOTBi6tGon",
        "colab": {
          "base_uri": "https://localhost:8080/"
        },
        "outputId": "539f8cea-7f0b-48e8-c0d6-05a5e6f6939d"
      },
      "outputs": [
        {
          "output_type": "stream",
          "name": "stdout",
          "text": [
            "[1, 2, 3, 4]\n"
          ]
        }
      ],
      "source": [
        "my_list = [1, 2, 3]\n",
        "my_list.append(4)  # Modifies the original list\n",
        "print(my_list)"
      ]
    },
    {
      "cell_type": "code",
      "source": [
        "  my_dict = {\"name\": \"surbhi\" , \"age\": 21}\n",
        "my_dict[\"village\"] = \"aurangabad\" # Modifies the original dictionary\n",
        "print(my_dict)"
      ],
      "metadata": {
        "colab": {
          "base_uri": "https://localhost:8080/"
        },
        "id": "OwpM-P6K64MV",
        "outputId": "701c8587-d655-4da3-aee0-2c9c89bd216e"
      },
      "execution_count": null,
      "outputs": [
        {
          "output_type": "stream",
          "name": "stdout",
          "text": [
            "{'name': 'surbhi', 'age': 21, 'village': 'aurangabad'}\n"
          ]
        }
      ]
    },
    {
      "cell_type": "code",
      "source": [
        " my_set = {1, 2, 3}\n",
        " my_set.add(5) # modifies the original set\n",
        " print(my_set)"
      ],
      "metadata": {
        "colab": {
          "base_uri": "https://localhost:8080/"
        },
        "id": "GvO6ZM0SYgUU",
        "outputId": "25117d71-023b-49e6-94e7-fca5f1c3cef7"
      },
      "execution_count": null,
      "outputs": [
        {
          "output_type": "stream",
          "name": "stdout",
          "text": [
            "{1, 2, 3, 5}\n"
          ]
        }
      ]
    },
    {
      "cell_type": "markdown",
      "source": [
        "   Immutable Data Types:-\n",
        "    \n",
        "   Objects whose values cannot be changed after they are created. Modifying an immutable object creates a new object with the changed value.\n",
        "\n",
        "   int\n",
        "\n",
        "   float\n",
        "\n",
        "   bool\n",
        "\n",
        "   string\n",
        "\n",
        "   tuple"
      ],
      "metadata": {
        "id": "Jpd9R5DKeG86"
      }
    },
    {
      "cell_type": "code",
      "source": [
        "  a = 5  #int\n",
        "  type(a)"
      ],
      "metadata": {
        "colab": {
          "base_uri": "https://localhost:8080/"
        },
        "id": "hg3nabgQZP8Z",
        "outputId": "e4214f34-3744-4f01-e14f-359f972ea420"
      },
      "execution_count": null,
      "outputs": [
        {
          "output_type": "execute_result",
          "data": {
            "text/plain": [
              "int"
            ]
          },
          "metadata": {},
          "execution_count": 11
        }
      ]
    },
    {
      "cell_type": "code",
      "source": [
        "  b = 9.5   #float\n",
        "  type (b)"
      ],
      "metadata": {
        "colab": {
          "base_uri": "https://localhost:8080/"
        },
        "id": "Yii0QfnacPzA",
        "outputId": "d21cf747-de8d-4d8a-8859-90774a8ee620"
      },
      "execution_count": null,
      "outputs": [
        {
          "output_type": "execute_result",
          "data": {
            "text/plain": [
              "float"
            ]
          },
          "metadata": {},
          "execution_count": 12
        }
      ]
    },
    {
      "cell_type": "code",
      "source": [
        "   bool(1)  #bool"
      ],
      "metadata": {
        "colab": {
          "base_uri": "https://localhost:8080/"
        },
        "id": "pQXjdwF8cZnf",
        "outputId": "5e611783-82b7-409f-fee3-acfd4a74cb6d"
      },
      "execution_count": null,
      "outputs": [
        {
          "output_type": "execute_result",
          "data": {
            "text/plain": [
              "True"
            ]
          },
          "metadata": {},
          "execution_count": 15
        }
      ]
    },
    {
      "cell_type": "code",
      "source": [
        "  a = \"surbhi\"  #str\n",
        "  type(a)"
      ],
      "metadata": {
        "colab": {
          "base_uri": "https://localhost:8080/"
        },
        "id": "DmvKqM3rck8i",
        "outputId": "e31cc688-c5fa-46ec-cc0d-772edb806b4d"
      },
      "execution_count": null,
      "outputs": [
        {
          "output_type": "execute_result",
          "data": {
            "text/plain": [
              "str"
            ]
          },
          "metadata": {},
          "execution_count": 17
        }
      ]
    },
    {
      "cell_type": "code",
      "source": [
        "  colour = (\"red\",\"blue\",\"green\")  #tuple\n",
        "  type(colour)"
      ],
      "metadata": {
        "colab": {
          "base_uri": "https://localhost:8080/"
        },
        "id": "2D9T4EA1dbd1",
        "outputId": "6629df55-7083-4a12-d218-5630b97d7012"
      },
      "execution_count": null,
      "outputs": [
        {
          "output_type": "execute_result",
          "data": {
            "text/plain": [
              "tuple"
            ]
          },
          "metadata": {},
          "execution_count": 18
        }
      ]
    },
    {
      "cell_type": "markdown",
      "source": [
        " 3. What are the main differences between lists and tuples in Python?\n",
        "   - In Python, lists and tuples are both used to store ordered sequences of items, but they differ in their mutability. Lists are mutable, meaning their contents can be changed after creation, while tuples are immutable, meaning their contents cannot be modified once created.\n",
        "    * Mutability:\n",
        "\n",
        "    Lists are mutable, while tuples are immutable.\n",
        "    * Syntax:\n",
        "\n",
        "    Lists are defined using square brackets [], while tuples are defined using parentheses ().\n",
        "     * Methods:\n",
        "\n",
        "    Lists have numerous methods for modification (e.g., append(), remove(), insert()), while tuples do not because they are immutable.\n",
        "     * Use Cases:\n",
        "\n",
        "    Lists are often used for data that needs to be changed, while tuples are preferred for data that should remain constant or for use as keys in dictionaries (since dictionaries require immutable keys).\n",
        "     * Memory Efficiency:\n",
        "\n",
        "    Tuples are generally more memory-efficient than lists due to their immutability.\n",
        "     * Performance:\n",
        "\n",
        "    Tuples are generally faster to iterate over than lists because of their immutability.\n",
        "\n",
        " 4. Describe how dictionaries store data.\n",
        "     - Dictionaries are used to store data values in key:value pairs.\n",
        "\n",
        "     keys are unique and immutable.\n",
        "\n",
        "     Dictionaries are unordered. but from python 3.7 version dictionaries retain the order of insertion.\n",
        "\n",
        "     this means that if you iterate over a dictionary the items will be returned in the order they were added.\n",
        "\n",
        " 5. Why might you use a set instead of a list in Python?\n",
        "   - In Python, whether you use a set or a list depends on what you're trying to achieve. You might use a set instead of a list in Python for a few key reasons, depending on what you're trying to do:\n",
        "\n",
        "     * To Eliminate Duplicates Automatically:-\n",
        "     \n",
        "    Sets only store unique elements. If you add duplicates, they're ignored\n",
        "\n",
        "\n",
        "\n"
      ],
      "metadata": {
        "id": "NGeobRdzemzo"
      }
    },
    {
      "cell_type": "code",
      "source": [
        "my_list = [1, 2, 2, 3]\n",
        "my_set = set(my_list)\n",
        "print(my_set)"
      ],
      "metadata": {
        "colab": {
          "base_uri": "https://localhost:8080/"
        },
        "id": "4uj9-tRgE4l8",
        "outputId": "961cbadf-53dd-4033-f5ad-569fa8343475"
      },
      "execution_count": null,
      "outputs": [
        {
          "output_type": "stream",
          "name": "stdout",
          "text": [
            "{1, 2, 3}\n"
          ]
        }
      ]
    },
    {
      "cell_type": "markdown",
      "source": [
        " 6.  What is a string in Python, and how is it different from a list?\n",
        "   - A string is a sequence of characters between single or double quotes. A list is a sequence of items, where each item could be anything (an integer, a float, a string, etc) .\n",
        "\n",
        "  In Python, a string and a list are both sequences, but they have some key differences:    \n",
        "\n",
        "       *  A string is a sequence of characters, used to represent text.\n",
        "\n",
        "    It's enclosed in quotes ( ' ' or \" \" ).\n",
        "\n",
        "    You can access each character by index:\n",
        "\n",
        "    Strings are immutable, meaning you can't change characters once it's created\n",
        "\n",
        "     *  A list is a sequence of items, which can be of any type (including strings, numbers, or even other lists).   \n",
        "\n",
        "    Lists are enclosed in square brackets.\n",
        "\n",
        "    Items can be accessed and modified:\n",
        "\n",
        "    Lists are mutable, so you can add, remove, or change items.\n",
        "\n",
        "\n",
        " 7. How do tuples ensure data integrity in Python?\n",
        "   - Tuples are immutable to ensure that their contents remain constant throughout their lifecycle, guaranteeing data integrity and reliability. This immutability allows tuples to be used as keys in dictionaries and elements in sets, as they can be hashed.\n",
        "\n",
        " 8.  What is a hash table, and how does it relate to dictionaries in Python?\n",
        "   -  A hash table is a data structure that stores key-value pairs. It uses a hash function to compute an index (location) into an array of buckets where the value is stored.\n",
        "\n",
        "   Dictionaries in Python are data structures that store data in key-value pairs, similar to a real-world dictionary where you look up a word (key) to find its definition (value). Each key in a dictionary must be unique and immutable (like strings, numbers, or tuples), while the values can be of any data type and can be duplicated. Dictionaries are unordered, meaning the items do not have a defined order.\n",
        " 9.  Can lists contain different data types in Python?\n",
        "    - Yes, lists in Python can contain different data types. Python lists are versatile and allow you to store elements of various types within the same list. This includes integers, strings, floats, booleans, and even other lists or data structures like dictionaries and tuples.\n",
        "\n",
        "    \n",
        "\n",
        "\n",
        "\n",
        "\n",
        "\n",
        "\n"
      ],
      "metadata": {
        "id": "K1PfJ4oGF5RI"
      }
    },
    {
      "cell_type": "code",
      "source": [
        " my_list = [2, 3, \"hello india\",  True, [1, 2, 3], {\"name\": \"surbhi\"}] # 2, 3 this is int. # \"hello india\" this is str. # 5.2, this is float. #  True, this is  bool. # [1, 2, 3] this is other list. # {\"name\": \"surbhi\"} this is dict.\n",
        " my_list5"
      ],
      "metadata": {
        "colab": {
          "base_uri": "https://localhost:8080/"
        },
        "id": "4zEcoWTjFqgX",
        "outputId": "3968def5-8b13-44e4-cd2d-668ed546bb85"
      },
      "execution_count": null,
      "outputs": [
        {
          "output_type": "execute_result",
          "data": {
            "text/plain": [
              "[2, 3, 'hello india', 5.2, True, [1, 2, 3], {'name': 'surbhi'}]"
            ]
          },
          "metadata": {},
          "execution_count": 2
        }
      ]
    },
    {
      "cell_type": "markdown",
      "source": [
        " 10. Explain why strings are immutable in Python?\n",
        "    - In Python, strings are immutable, meaning once a string is created, it cannot be changed (its contents can't be modified in place).\n",
        "    \n",
        "\n",
        "\n",
        "\n",
        "\n"
      ],
      "metadata": {
        "id": "Me0alg0uIq7o"
      }
    },
    {
      "cell_type": "code",
      "source": [
        " #string\n",
        " s = \"surbhi\"\n",
        " type(s)"
      ],
      "metadata": {
        "colab": {
          "base_uri": "https://localhost:8080/"
        },
        "id": "c3M48O6QfLKH",
        "outputId": "fac9e777-9294-428e-e881-d03c9aad610e"
      },
      "execution_count": null,
      "outputs": [
        {
          "output_type": "execute_result",
          "data": {
            "text/plain": [
              "str"
            ]
          },
          "metadata": {},
          "execution_count": 1
        }
      ]
    },
    {
      "cell_type": "code",
      "source": [
        "for i in s:\n",
        "  print(i)"
      ],
      "metadata": {
        "colab": {
          "base_uri": "https://localhost:8080/"
        },
        "id": "KNGvC29bfVcp",
        "outputId": "09f48c6c-8a75-40ae-ae20-74db49d41b33"
      },
      "execution_count": null,
      "outputs": [
        {
          "output_type": "stream",
          "name": "stdout",
          "text": [
            "s\n",
            "u\n",
            "r\n",
            "b\n",
            "h\n",
            "i\n"
          ]
        }
      ]
    },
    {
      "cell_type": "code",
      "source": [
        " s[0]"
      ],
      "metadata": {
        "colab": {
          "base_uri": "https://localhost:8080/",
          "height": 36
        },
        "id": "Hog3yzlsffL1",
        "outputId": "56e74a74-993d-4641-bae1-ff2c6cc0bbd9"
      },
      "execution_count": null,
      "outputs": [
        {
          "output_type": "execute_result",
          "data": {
            "text/plain": [
              "'s'"
            ],
            "application/vnd.google.colaboratory.intrinsic+json": {
              "type": "string"
            }
          },
          "metadata": {},
          "execution_count": 3
        }
      ]
    },
    {
      "cell_type": "code",
      "source": [
        "s[0]=\"d\" #this string is immutable"
      ],
      "metadata": {
        "colab": {
          "base_uri": "https://localhost:8080/",
          "height": 141
        },
        "id": "Y-_lY0kSfkVk",
        "outputId": "2f5b5dc7-257d-477f-a994-e513a93e13c4"
      },
      "execution_count": null,
      "outputs": [
        {
          "output_type": "error",
          "ename": "NameError",
          "evalue": "name 's' is not defined",
          "traceback": [
            "\u001b[0;31m---------------------------------------------------------------------------\u001b[0m",
            "\u001b[0;31mNameError\u001b[0m                                 Traceback (most recent call last)",
            "\u001b[0;32m<ipython-input-1-a8317a18f63f>\u001b[0m in \u001b[0;36m<cell line: 0>\u001b[0;34m()\u001b[0m\n\u001b[0;32m----> 1\u001b[0;31m \u001b[0ms\u001b[0m\u001b[0;34m[\u001b[0m\u001b[0;36m0\u001b[0m\u001b[0;34m]\u001b[0m\u001b[0;34m=\u001b[0m\u001b[0;34m\"d\"\u001b[0m \u001b[0;31m#this string is immutable\u001b[0m\u001b[0;34m\u001b[0m\u001b[0;34m\u001b[0m\u001b[0m\n\u001b[0m",
            "\u001b[0;31mNameError\u001b[0m: name 's' is not defined"
          ]
        }
      ]
    },
    {
      "cell_type": "markdown",
      "source": [
        "  11. What advantages do dictionaries offer over lists for certain tasks?\n",
        "   - Dictionaries and lists are both powerful data structures in Python, but they shine in different situations. as they have an average complexity of O(1), while lists require O(n) in the worst case.\n",
        "    \n",
        "12. Describe a scenario where using a tuple would be preferable over a list.\n",
        " - Tuples are immutable. Hence, they are primarily used to store data that doesn't change frequently. Any operation can store data in a tuple when you don't want it to change. Tuples are great to use if you want the data in your collection to be read-only, never to change, and always remain the same and constant.\n",
        "\n",
        "13. How do sets handle duplicate values in Python?\n",
        " - Sets in Python are designed to store only unique elements. When an attempt is made to add a duplicate value to a set, it is automatically ignored, and the set remains unchanged. This behavior makes sets a useful tool for tasks such as removing duplicates from a list or checking for the presence of unique items."
      ],
      "metadata": {
        "id": "lly-IJ3Jf7L4"
      }
    },
    {
      "cell_type": "code",
      "source": [
        " my_set = {1, 3, 2, 3, 1, 5, 2}\n",
        " print(my_set)"
      ],
      "metadata": {
        "colab": {
          "base_uri": "https://localhost:8080/"
        },
        "id": "9615Feh1kHZt",
        "outputId": "71ae114b-4900-4ee2-ce86-ddbc934084f9"
      },
      "execution_count": null,
      "outputs": [
        {
          "output_type": "stream",
          "name": "stdout",
          "text": [
            "{1, 2, 3, 5}\n"
          ]
        }
      ]
    },
    {
      "cell_type": "code",
      "source": [
        "s1 = {\"mohan\",\"ajay\",\"surbhi\"}\n",
        "s2 ={ \"surbhi\", \"raju\", \"aman\"}"
      ],
      "metadata": {
        "id": "8HFxGsKjknCy"
      },
      "execution_count": null,
      "outputs": []
    },
    {
      "cell_type": "code",
      "source": [
        "s1"
      ],
      "metadata": {
        "colab": {
          "base_uri": "https://localhost:8080/"
        },
        "id": "P468q5JYmFje",
        "outputId": "391d57e3-b35e-4d2d-cda8-6a8495445188"
      },
      "execution_count": null,
      "outputs": [
        {
          "output_type": "execute_result",
          "data": {
            "text/plain": [
              "{'ajay', 'mohan', 'surbhi'}"
            ]
          },
          "metadata": {},
          "execution_count": 8
        }
      ]
    },
    {
      "cell_type": "code",
      "source": [
        "s2"
      ],
      "metadata": {
        "colab": {
          "base_uri": "https://localhost:8080/"
        },
        "id": "tmFzU09zmHaJ",
        "outputId": "32b4e179-3d66-48c9-9065-c3205764bd3c"
      },
      "execution_count": null,
      "outputs": [
        {
          "output_type": "execute_result",
          "data": {
            "text/plain": [
              "{'aman', 'raju', 'surbhi'}"
            ]
          },
          "metadata": {},
          "execution_count": 9
        }
      ]
    },
    {
      "cell_type": "code",
      "source": [
        " s1 & s2"
      ],
      "metadata": {
        "colab": {
          "base_uri": "https://localhost:8080/"
        },
        "id": "SSydHN4NmIfD",
        "outputId": "267197b0-6ec9-4105-9344-3cc7fa709022"
      },
      "execution_count": null,
      "outputs": [
        {
          "output_type": "execute_result",
          "data": {
            "text/plain": [
              "{'surbhi'}"
            ]
          },
          "metadata": {},
          "execution_count": 13
        }
      ]
    },
    {
      "cell_type": "markdown",
      "source": [
        " 14.  How does the “in” keyword work differently for lists and dictionaries?\n",
        "  - the \"in\" keyword — small but mighty! It behaves differently depending on the data structure you're working with — list vs dictionary.\n",
        "\n",
        "   * \"in\" checks if the value exists anywhere in the list.\n",
        "   * \"in\" only checks keys, not values.\n",
        "   * It's a linear search → time complexity is O(n).\n",
        "   * Very fast — average time complexity is O(1) due to hash table use.\n",
        "\n",
        " 15. Can you modify the elements of a tuple? Explain why or why not.\n",
        "  - No, you cannot directly modify the elements of a tuple in Python. Tuples are immutable, meaning their values cannot be changed after they are created. Attempting to modify a tuple will raise a TypeError.\n",
        "\n",
        "    Why Tuples Are Immutable:-\n",
        " * Data Integrity\n",
        "\n",
        "    Tuples are often used for fixed collections of values (e.g. coordinates, days of the week).\n",
        "\n",
        "    Immutability prevents accidental changes.\n",
        "\n",
        " * Hashability\n",
        "\n",
        "    Only immutable objects can be hashed (have a stable hash value), so tuples can be used as:\n",
        "\n",
        "    Dictionary keys\n",
        "\n",
        "    Set elements\n",
        "\n",
        " * Performance\n",
        "\n",
        "    Tuples are faster and more memory-efficient than lists for fixed-size data.\n",
        "\n",
        " 16. What is a nested dictionary, and give an example of its use case?\n",
        " -  A nested dictionary in Python is a dictionary where the values are themselves dictionaries. This allows for representing hierarchical or multi-layered data structures. A use case for nested dictionaries is organizing employee records, where you might store each employee's information (name, job title, etc.) as a nested dictionary, grouped by department.  \n",
        "    \n",
        "\n"
      ],
      "metadata": {
        "id": "C3pT9VxpmrHy"
      }
    },
    {
      "cell_type": "code",
      "source": [
        "   student_record = {\n",
        "     'E001' : { 'name': surbhi, \"course\": data analysis, 'marks': 90}\n",
        "\n",
        "     'E002' : { 'name': sonali, \"course\" : data entry, 'marks': 80}\n",
        "\n",
        "     'E003' : { 'name': shivani, \"course\": data scientist, 'marks': 70}\n",
        " }"
      ],
      "metadata": {
        "colab": {
          "base_uri": "https://localhost:8080/",
          "height": 106
        },
        "id": "HCLqoF8L0v-g",
        "outputId": "bd8da53a-9af1-4573-a173-1ea12b035cba"
      },
      "execution_count": null,
      "outputs": [
        {
          "output_type": "error",
          "ename": "SyntaxError",
          "evalue": "invalid syntax. Perhaps you forgot a comma? (<ipython-input-17-55ff86cf57c7>, line 2)",
          "traceback": [
            "\u001b[0;36m  File \u001b[0;32m\"<ipython-input-17-55ff86cf57c7>\"\u001b[0;36m, line \u001b[0;32m2\u001b[0m\n\u001b[0;31m    'E001' : { 'name': surbhi, \"course\": data analysis, 'marks': 900}\u001b[0m\n\u001b[0m                                         ^\u001b[0m\n\u001b[0;31mSyntaxError\u001b[0m\u001b[0;31m:\u001b[0m invalid syntax. Perhaps you forgot a comma?\n"
          ]
        }
      ]
    },
    {
      "cell_type": "code",
      "source": [
        " students = {\n",
        "    'Ankit': {'Math': 85, 'Science': 92},\n",
        "    'Bebo': {'Math': 78, 'Science': 88},\n",
        "    'somu': {'Math': 90, 'Science': 85}\n",
        "}\n"
      ],
      "metadata": {
        "id": "GJraMvit64YO"
      },
      "execution_count": null,
      "outputs": []
    },
    {
      "cell_type": "code",
      "source": [
        "students"
      ],
      "metadata": {
        "colab": {
          "base_uri": "https://localhost:8080/"
        },
        "id": "jr6mJSLT7dy0",
        "outputId": "3a320354-0045-4f0e-e753-c4faac8a9fab"
      },
      "execution_count": null,
      "outputs": [
        {
          "output_type": "execute_result",
          "data": {
            "text/plain": [
              "{'Ankit': {'Math': 85, 'Science': 92},\n",
              " 'Bebo': {'Math': 78, 'Science': 88},\n",
              " 'somu': {'Math': 90, 'Science': 85}}"
            ]
          },
          "metadata": {},
          "execution_count": 22
        }
      ]
    },
    {
      "cell_type": "markdown",
      "source": [
        " 17. Describe the time complexity of accessing elements in a dictionary.\n",
        " - The time complexity of retrieving a value by its key in a dictionary is O(1). This is because dictionaries use a hash table internally which allows constant time lookup. Why O(1)? Hash tables use the hash of the key to find the memory location which enables direct access.\n",
        "\n",
        " 18. In what situations are lists preferred over dictionaries?\n",
        " - Whether to use a list or a dictionary depends on the structure of your data and how you plan to access or manipulate it. Here are situations where lists are preferred:\n",
        "\n",
        "For ordered collections and sequence operations, such as maintaining a stack or queue, lists are more suitable.\n",
        "\n",
        "  preferred over dictionsries:-\n",
        "\n",
        "  * Order Matters\n",
        "\n",
        "  * Data Without Unique Keys\n",
        "\n",
        "  * Indexed Access by Position\n",
        "\n",
        "  * Iterating Over Items in Order\n",
        "\n",
        "  * Stack/Queue Operations\n",
        "\n",
        "19. Why are dictionaries considered unordered, and how does that affect data retrieval?\n",
        " - A dictionary is termed an unordered collection of objects because dictionaries do not maintain any inherent order of the items based on when they were added. In older versions of Python (before 3.7), dictionaries did not preserve insertion order at all.\n",
        "\n",
        " This means if you insert keys in a certain order, iterating over the dictionary will return them in that same order.\n"
      ],
      "metadata": {
        "id": "osBQ50Efe4Ni"
      }
    },
    {
      "cell_type": "code",
      "source": [
        " my_dict = {'a': 1, 'b': 2, 'c': 3}\n",
        "for key in my_dict:\n",
        "    print(key)"
      ],
      "metadata": {
        "colab": {
          "base_uri": "https://localhost:8080/"
        },
        "id": "P8jwYkbmkpFI",
        "outputId": "3a06db3f-9cf1-4e96-b382-b1ffe4db59d0"
      },
      "execution_count": null,
      "outputs": [
        {
          "output_type": "stream",
          "name": "stdout",
          "text": [
            "a\n",
            "b\n",
            "c\n"
          ]
        }
      ]
    },
    {
      "cell_type": "code",
      "source": [
        " d = { 1:\"abc\",2:\"xyz\", \"a\":\"pqr\"}\n",
        " print(d)"
      ],
      "metadata": {
        "colab": {
          "base_uri": "https://localhost:8080/"
        },
        "id": "txmfDmrblZ5G",
        "outputId": "f70a0ff0-b1e9-42c7-e71b-5ab4804c1787"
      },
      "execution_count": null,
      "outputs": [
        {
          "output_type": "stream",
          "name": "stdout",
          "text": [
            "{1: 'abc', 2: 'xyz', 'a': 'pqr'}\n"
          ]
        }
      ]
    },
    {
      "cell_type": "code",
      "source": [
        " type (d)"
      ],
      "metadata": {
        "colab": {
          "base_uri": "https://localhost:8080/"
        },
        "id": "JWzCe4sBle_A",
        "outputId": "582dfa67-7d15-4ba5-ab05-48afd0b71c0d"
      },
      "execution_count": null,
      "outputs": [
        {
          "output_type": "execute_result",
          "data": {
            "text/plain": [
              "dict"
            ]
          },
          "metadata": {},
          "execution_count": 6
        }
      ]
    },
    {
      "cell_type": "markdown",
      "source": [
        " 20. Explain the difference between a list and a dictionary in terms of data retrieval.\n",
        " - In terms of data retrieval, lists access elements by numerical index, while dictionaries access elements by unique keys.  \n",
        " the difference between a list and a dictionary in terms of data retrieval:\n",
        "\n",
        "    List vs Dictionary :-\n",
        "\n",
        "Access Method\n",
        "\n",
        "    Lists:- By index (e.g., my_list[0])\n",
        "    Dictionary:- By key (e.g., my_dict[\"name\"])\n",
        "\n",
        "Retrieval Speed\n",
        "\n",
        "    Lists:- O(1) - if you know the index\n",
        "    Dictionary:- O(1) - if you know the key\n",
        "\n",
        "Structure\n",
        "\n",
        "    Lists:- Ordered sequence of items\n",
        "    Dictionary:- Unordered key-value pairs (ordered since Python 3.7+)\n",
        "\n",
        "Use Case\n",
        "\n",
        "    Lists:- When items are accessed by position\n",
        "    Dictionary:- When items are accessed by name/identifier\n",
        "\n",
        "Key Lookup\n",
        "\n",
        "    Lists:- Not supported\n",
        "    Dictionary:- Fast key-based retrieval\n",
        "\n",
        "Index Lookup\n",
        "\n",
        "    Lists:- Supported\n",
        "    Dictionary:- Not supported\n",
        "\n",
        "    \n",
        "   list example :-\n",
        "\n",
        "\n",
        "\n",
        "\n"
      ],
      "metadata": {
        "id": "kCz5EuqemLgM"
      }
    },
    {
      "cell_type": "code",
      "source": [
        " my_list = [\"apple\", \"banana\", \"mango\"]\n",
        "print(my_list[1])\n"
      ],
      "metadata": {
        "colab": {
          "base_uri": "https://localhost:8080/"
        },
        "id": "LBI5fTRRs4Jf",
        "outputId": "6b9f485a-f5e1-4c95-9bad-2e79379c5eee"
      },
      "execution_count": null,
      "outputs": [
        {
          "output_type": "stream",
          "name": "stdout",
          "text": [
            "banana\n"
          ]
        }
      ]
    },
    {
      "cell_type": "code",
      "source": [
        " my_list = [\"cheri\", \"pinapple\", \"chili\"]\n",
        "print(my_list[-3])"
      ],
      "metadata": {
        "colab": {
          "base_uri": "https://localhost:8080/"
        },
        "id": "yR1K2E_ytGWc",
        "outputId": "c864e1f1-ebf5-41ab-b685-0387fa96aa54"
      },
      "execution_count": null,
      "outputs": [
        {
          "output_type": "stream",
          "name": "stdout",
          "text": [
            "cheri\n"
          ]
        }
      ]
    },
    {
      "cell_type": "markdown",
      "source": [
        " Dictionary example :-"
      ],
      "metadata": {
        "id": "4x8LeqpltqmV"
      }
    },
    {
      "cell_type": "code",
      "source": [
        " my_dict = {\"fruit1\": \"apple\", \"fruit2\": \"banana\", \"fruit3\": \"cherry\"}\n",
        "print(my_dict[\"fruit2\"])"
      ],
      "metadata": {
        "colab": {
          "base_uri": "https://localhost:8080/"
        },
        "id": "JoYs0S2-uMMu",
        "outputId": "25e6a358-476b-4275-a1a5-5e0a2b4297e2"
      },
      "execution_count": null,
      "outputs": [
        {
          "output_type": "stream",
          "name": "stdout",
          "text": [
            "banana\n"
          ]
        }
      ]
    },
    {
      "cell_type": "code",
      "source": [
        " my_dict = {\"name\": \"surbhi\", \"email\": \"sk@gmail.com\", \"contCT\": \"23654\"}\n",
        "print(my_dict[\"email\"])\n"
      ],
      "metadata": {
        "colab": {
          "base_uri": "https://localhost:8080/"
        },
        "id": "OCdRS_mQuowz",
        "outputId": "98a19f50-4926-47aa-cf66-af6cc7e1b78e"
      },
      "execution_count": null,
      "outputs": [
        {
          "output_type": "stream",
          "name": "stdout",
          "text": [
            "sk@gmail.com\n"
          ]
        }
      ]
    },
    {
      "cell_type": "markdown",
      "source": [
        "# Practical Questions"
      ],
      "metadata": {
        "id": "ks9K6uGkvJqh"
      }
    },
    {
      "cell_type": "markdown",
      "source": [
        "1. Write a code to create a string with your name and print it."
      ],
      "metadata": {
        "id": "G5dWgs49vS6I"
      }
    },
    {
      "cell_type": "code",
      "source": [
        " # Create a string with your name\n",
        "my_name = \"surbhi\"\n",
        "print(\"My name is\", my_name )\n"
      ],
      "metadata": {
        "colab": {
          "base_uri": "https://localhost:8080/"
        },
        "id": "HIGovNE9v1la",
        "outputId": "e61716e1-bc51-4a30-fa19-722a1068d489"
      },
      "execution_count": null,
      "outputs": [
        {
          "output_type": "stream",
          "name": "stdout",
          "text": [
            "My name is surbhi\n"
          ]
        }
      ]
    },
    {
      "cell_type": "markdown",
      "source": [
        "2. Write a code to find the length of the string \"Hello World\"."
      ],
      "metadata": {
        "id": "GwkysAolwO6y"
      }
    },
    {
      "cell_type": "code",
      "source": [
        " # string\n",
        "my_string = \"Hello World\"\n",
        "print(len(my_string))"
      ],
      "metadata": {
        "colab": {
          "base_uri": "https://localhost:8080/"
        },
        "id": "iep-6Qg4wd9-",
        "outputId": "b29f9088-476a-49d7-b93b-ce76e84c87ba"
      },
      "execution_count": null,
      "outputs": [
        {
          "output_type": "stream",
          "name": "stdout",
          "text": [
            "11\n"
          ]
        }
      ]
    },
    {
      "cell_type": "markdown",
      "source": [
        "3. Write a code to slice the first 3 characters from the string \"Python Programming\"."
      ],
      "metadata": {
        "id": "5HDjeexnw9de"
      }
    },
    {
      "cell_type": "code",
      "source": [
        " # string for 3 characters\n",
        "text = \"Python Programming\"\n",
        "sliced_text = text[:3]\n",
        "print(sliced_text)"
      ],
      "metadata": {
        "colab": {
          "base_uri": "https://localhost:8080/"
        },
        "id": "GX6QMXdBw3Ul",
        "outputId": "8b6fefbe-d42e-456d-bc81-cbb44650fbcc"
      },
      "execution_count": null,
      "outputs": [
        {
          "output_type": "stream",
          "name": "stdout",
          "text": [
            "Pyt\n"
          ]
        }
      ]
    },
    {
      "cell_type": "markdown",
      "source": [
        "4. Write a code to convert the string \"hello\" to uppercase."
      ],
      "metadata": {
        "id": "Ni2KGR_2xy3X"
      }
    },
    {
      "cell_type": "code",
      "source": [
        " # convert the string\n",
        "text = \"hello\"\n",
        "uppercase_text = text.upper()\n",
        "print(uppercase_text)"
      ],
      "metadata": {
        "colab": {
          "base_uri": "https://localhost:8080/"
        },
        "id": "PjbrWzIFxZkZ",
        "outputId": "a5730d32-c7da-406a-99a3-b1c6804b5028"
      },
      "execution_count": null,
      "outputs": [
        {
          "output_type": "stream",
          "name": "stdout",
          "text": [
            "HELLO\n"
          ]
        }
      ]
    },
    {
      "cell_type": "markdown",
      "source": [
        " 5. Write a code to replace the word \"apple\" with \"orange\" in the string \"I like apple\"."
      ],
      "metadata": {
        "id": "4XtKoTnoyZKz"
      }
    },
    {
      "cell_type": "code",
      "source": [
        " # replace the string\n",
        "text = \"I like apple\"\n",
        "new_text = text.replace(\"apple\", \"orange\")\n",
        "print(new_text)"
      ],
      "metadata": {
        "colab": {
          "base_uri": "https://localhost:8080/"
        },
        "id": "9B2_j1hpygQK",
        "outputId": "a25bd7a7-77db-4dbc-abc4-cf848eb4e3c8"
      },
      "execution_count": null,
      "outputs": [
        {
          "output_type": "stream",
          "name": "stdout",
          "text": [
            "I like orange\n"
          ]
        }
      ]
    },
    {
      "cell_type": "markdown",
      "source": [
        "6. Write a code to create a list with numbers 1 to 5 and print it."
      ],
      "metadata": {
        "id": "-JnlHdBvzavM"
      }
    },
    {
      "cell_type": "code",
      "source": [
        " # Create a list with numbers 1 to 5\n",
        "numbers = [1, 2, 3, 4, 5]\n",
        "print(numbers)\n"
      ],
      "metadata": {
        "colab": {
          "base_uri": "https://localhost:8080/"
        },
        "id": "-XliYp3azHAB",
        "outputId": "976c7482-3595-4da2-e4d2-d21af1eea9f1"
      },
      "execution_count": null,
      "outputs": [
        {
          "output_type": "stream",
          "name": "stdout",
          "text": [
            "[1, 2, 3, 4, 5]\n"
          ]
        }
      ]
    },
    {
      "cell_type": "markdown",
      "source": [
        " 7. Write a code to append the number 10 to the list [1, 2, 3, 4]."
      ],
      "metadata": {
        "id": "4Qvf_DyKzqjY"
      }
    },
    {
      "cell_type": "code",
      "source": [
        "my_list = [1, 2, 3, 4]\n",
        "my_list.append(10)"
      ],
      "metadata": {
        "id": "G1zJ6x7mzwLk"
      },
      "execution_count": null,
      "outputs": []
    },
    {
      "cell_type": "code",
      "source": [
        " print(my_list)"
      ],
      "metadata": {
        "colab": {
          "base_uri": "https://localhost:8080/"
        },
        "id": "0q00iWrA0wub",
        "outputId": "191b8c0c-8b43-46cb-c8da-ec353d3a5cfa"
      },
      "execution_count": null,
      "outputs": [
        {
          "output_type": "stream",
          "name": "stdout",
          "text": [
            "[1, 2, 3, 4, 10]\n"
          ]
        }
      ]
    },
    {
      "cell_type": "markdown",
      "source": [
        " 8. Write a code to remove the number 3 from the list [1, 2, 3, 4, 5]."
      ],
      "metadata": {
        "id": "ki_wlOn40Cmg"
      }
    },
    {
      "cell_type": "code",
      "source": [
        " # remove the num 3\n",
        "my_list = [1, 2, 3, 4, 5]\n",
        "my_list.remove(3)"
      ],
      "metadata": {
        "id": "kX2GP9uX0Vq2"
      },
      "execution_count": null,
      "outputs": []
    },
    {
      "cell_type": "code",
      "source": [
        " print(my_list)"
      ],
      "metadata": {
        "colab": {
          "base_uri": "https://localhost:8080/"
        },
        "id": "JjGWD-d_0fPE",
        "outputId": "717adcf3-193c-4e85-d1d9-a789575d6bbb"
      },
      "execution_count": null,
      "outputs": [
        {
          "output_type": "stream",
          "name": "stdout",
          "text": [
            "[1, 2, 4, 5]\n"
          ]
        }
      ]
    },
    {
      "cell_type": "markdown",
      "source": [
        " 9. Write a code to access the second element in the list ['a', 'b', 'c', 'd']."
      ],
      "metadata": {
        "id": "XFvTYx4j05cw"
      }
    },
    {
      "cell_type": "code",
      "source": [
        " # the list second element\n",
        "my_list = ['a', 'b', 'c', 'd']\n",
        " second_element = my_list[1]\n"
      ],
      "metadata": {
        "id": "PRS-31p61D5a"
      },
      "execution_count": null,
      "outputs": []
    },
    {
      "cell_type": "code",
      "source": [
        " print(second_element)"
      ],
      "metadata": {
        "colab": {
          "base_uri": "https://localhost:8080/"
        },
        "id": "9NF656ne1ZhW",
        "outputId": "74e3ec68-d52a-47d0-ed92-67bb3df1812d"
      },
      "execution_count": null,
      "outputs": [
        {
          "output_type": "stream",
          "name": "stdout",
          "text": [
            "b\n"
          ]
        }
      ]
    },
    {
      "cell_type": "markdown",
      "source": [
        " 10. Write a code to reverse the list [10, 20, 30, 40, 50]."
      ],
      "metadata": {
        "id": "RlYVETXU18AT"
      }
    },
    {
      "cell_type": "code",
      "source": [
        " # reverse the list\n",
        "my_list = [10, 20, 30, 40, 50]\n",
        "my_list.reverse()\n"
      ],
      "metadata": {
        "id": "o2hpmh9_2Axm"
      },
      "execution_count": null,
      "outputs": []
    },
    {
      "cell_type": "code",
      "source": [
        "print(my_list)"
      ],
      "metadata": {
        "colab": {
          "base_uri": "https://localhost:8080/"
        },
        "id": "cDt4iL6q2LZF",
        "outputId": "f5399951-07a6-4eb2-a7b6-f1e1b9d45187"
      },
      "execution_count": null,
      "outputs": [
        {
          "output_type": "stream",
          "name": "stdout",
          "text": [
            "[50, 40, 30, 20, 10]\n"
          ]
        }
      ]
    },
    {
      "cell_type": "markdown",
      "source": [
        " 11. Write a code to create a tuple with the elements 100, 200, 300 and print it."
      ],
      "metadata": {
        "id": "7finsvGM2h1F"
      }
    },
    {
      "cell_type": "code",
      "source": [
        " # Create a tuple\n",
        "my_tuple = (100, 200, 300)\n",
        "print(my_tuple)\n"
      ],
      "metadata": {
        "colab": {
          "base_uri": "https://localhost:8080/"
        },
        "id": "uK0XuH0L2m7c",
        "outputId": "6633a13a-2cc2-487f-c55a-bdb375d62d32"
      },
      "execution_count": null,
      "outputs": [
        {
          "output_type": "stream",
          "name": "stdout",
          "text": [
            "(100, 200, 300)\n"
          ]
        }
      ]
    },
    {
      "cell_type": "markdown",
      "source": [
        " 12. Write a code to access the second-to-last element of the tuple ('red', 'green', 'blue', 'yellow')."
      ],
      "metadata": {
        "id": "9KfNz9xj24iN"
      }
    },
    {
      "cell_type": "code",
      "source": [
        " # the tuple\n",
        "my_tuple = ('red', 'green', 'blue', 'yellow')\n"
      ],
      "metadata": {
        "id": "-eFahWXt3DJh"
      },
      "execution_count": null,
      "outputs": []
    },
    {
      "cell_type": "code",
      "source": [
        " second_to_last = my_tuple[-2]\n",
        "print(second_to_last)"
      ],
      "metadata": {
        "colab": {
          "base_uri": "https://localhost:8080/"
        },
        "id": "FkC1zW5b3htE",
        "outputId": "ab5ba4db-4e4f-4c17-8870-212fc27694b3"
      },
      "execution_count": null,
      "outputs": [
        {
          "output_type": "stream",
          "name": "stdout",
          "text": [
            "blue\n"
          ]
        }
      ]
    },
    {
      "cell_type": "markdown",
      "source": [
        " 13. Write a code to find the minimum number in the tuple (10, 20, 5, 15)."
      ],
      "metadata": {
        "id": "lbBX7IML3qwt"
      }
    },
    {
      "cell_type": "code",
      "source": [
        " # the tuple\n",
        "my_tuple = (10, 20, 5, 15)"
      ],
      "metadata": {
        "id": "XPV3BZNK3w80"
      },
      "execution_count": null,
      "outputs": []
    },
    {
      "cell_type": "code",
      "source": [
        " min_number = min(my_tuple)\n",
        "print(min_number)\n"
      ],
      "metadata": {
        "colab": {
          "base_uri": "https://localhost:8080/"
        },
        "id": "_QWZbtaz4OgT",
        "outputId": "82fbbbfc-7e45-4343-d2fe-638adf210b04"
      },
      "execution_count": null,
      "outputs": [
        {
          "output_type": "stream",
          "name": "stdout",
          "text": [
            "5\n"
          ]
        }
      ]
    },
    {
      "cell_type": "markdown",
      "source": [
        " 14. Write a code to find the index of the element \"cat\" in the tuple ('dog', 'cat', 'rabbit')."
      ],
      "metadata": {
        "id": "6C1TUQG64ZiK"
      }
    },
    {
      "cell_type": "code",
      "source": [
        " # the tuple\n",
        "my_tuple = ('dog', 'cat', 'rabbit')\n",
        "my_tuple.index('cat')"
      ],
      "metadata": {
        "colab": {
          "base_uri": "https://localhost:8080/"
        },
        "id": "7U1S-P2o4jnE",
        "outputId": "fefb66f3-ebd3-4fa8-a5ef-efb0cf9a85ab"
      },
      "execution_count": null,
      "outputs": [
        {
          "output_type": "execute_result",
          "data": {
            "text/plain": [
              "1"
            ]
          },
          "metadata": {},
          "execution_count": 61
        }
      ]
    },
    {
      "cell_type": "markdown",
      "source": [
        " 15.  Write a code to create a tuple containing three different fruits and check if \"kiwi\" is in it."
      ],
      "metadata": {
        "id": "_J9AvaQb7GId"
      }
    },
    {
      "cell_type": "code",
      "source": [
        " # Create the tuple with fruits\n",
        "fruits_tuple = ('apple', 'banana', 'cherry')\n",
        " 'kiwi' in fruits_tuple"
      ],
      "metadata": {
        "colab": {
          "base_uri": "https://localhost:8080/"
        },
        "id": "vUoNJ2HX7Lro",
        "outputId": "913e7903-9650-4c16-fa55-e927ceff9fa0"
      },
      "execution_count": null,
      "outputs": [
        {
          "output_type": "execute_result",
          "data": {
            "text/plain": [
              "False"
            ]
          },
          "metadata": {},
          "execution_count": 62
        }
      ]
    },
    {
      "cell_type": "markdown",
      "source": [
        " 16. Write a code to create a set with the elements 'a', 'b', 'c' and print it."
      ],
      "metadata": {
        "id": "2JS8F-az7fFN"
      }
    },
    {
      "cell_type": "code",
      "source": [
        "  # Create a set\n",
        "my_set = {'a', 'b', 'c'}\n",
        "print(my_set)\n"
      ],
      "metadata": {
        "colab": {
          "base_uri": "https://localhost:8080/"
        },
        "id": "pzt8JPqK7nY7",
        "outputId": "6dcdeaba-62f6-4717-cb28-9c5eecd5eb81"
      },
      "execution_count": null,
      "outputs": [
        {
          "output_type": "stream",
          "name": "stdout",
          "text": [
            "{'b', 'c', 'a'}\n"
          ]
        }
      ]
    },
    {
      "cell_type": "markdown",
      "source": [
        " 17. Write a code to clear all elements from the set {1, 2, 3, 4, 5}."
      ],
      "metadata": {
        "id": "7hbVgr0R8WjP"
      }
    },
    {
      "cell_type": "code",
      "source": [
        " # Create the set\n",
        "my_set = {1, 2, 3, 4, 5}\n",
        "print(my_set)\n"
      ],
      "metadata": {
        "colab": {
          "base_uri": "https://localhost:8080/"
        },
        "id": "dnXIdU-F8bFZ",
        "outputId": "043292b0-04aa-422a-82e8-1a3171469e4e"
      },
      "execution_count": null,
      "outputs": [
        {
          "output_type": "stream",
          "name": "stdout",
          "text": [
            "{1, 2, 3, 4, 5}\n"
          ]
        }
      ]
    },
    {
      "cell_type": "code",
      "source": [
        " my_set.clear()"
      ],
      "metadata": {
        "id": "Etkf6u17_6FB"
      },
      "execution_count": null,
      "outputs": []
    },
    {
      "cell_type": "code",
      "source": [
        " print(my_set)"
      ],
      "metadata": {
        "colab": {
          "base_uri": "https://localhost:8080/"
        },
        "id": "vmS6RUcX_-l1",
        "outputId": "f8f863e5-5246-4294-e34d-59283d65d214"
      },
      "execution_count": null,
      "outputs": [
        {
          "output_type": "stream",
          "name": "stdout",
          "text": [
            "set()\n"
          ]
        }
      ]
    },
    {
      "cell_type": "markdown",
      "source": [
        " 18. Write a code to remove the element 4 from the set {1, 2, 3, 4}."
      ],
      "metadata": {
        "id": "2YuE3K_4AMiD"
      }
    },
    {
      "cell_type": "code",
      "source": [
        " my_set ={1, 2, 3, 4}\n",
        " my_set.remove(4)"
      ],
      "metadata": {
        "id": "qFOLHKxBA-G_"
      },
      "execution_count": null,
      "outputs": []
    },
    {
      "cell_type": "code",
      "source": [
        "print(my_set)"
      ],
      "metadata": {
        "colab": {
          "base_uri": "https://localhost:8080/"
        },
        "id": "sP_9mnalBJvj",
        "outputId": "0929ef1e-7654-4d37-cd92-b2d71122f51d"
      },
      "execution_count": null,
      "outputs": [
        {
          "output_type": "stream",
          "name": "stdout",
          "text": [
            "{1, 2, 3}\n"
          ]
        }
      ]
    },
    {
      "cell_type": "markdown",
      "source": [
        " 19. Write a code to find the union of two sets {1, 2, 3} and {3, 4, 5}."
      ],
      "metadata": {
        "id": "XLBdkZ4hBPN-"
      }
    },
    {
      "cell_type": "code",
      "source": [
        " # union sets\n",
        "set1 = {1, 2, 3}\n",
        "set2 = {3, 4, 5}\n",
        "print(union_set)\n"
      ],
      "metadata": {
        "colab": {
          "base_uri": "https://localhost:8080/"
        },
        "id": "zynp7Bk-BXWf",
        "outputId": "8e1b3d74-5915-437d-ff0d-fc1363184613"
      },
      "execution_count": null,
      "outputs": [
        {
          "output_type": "stream",
          "name": "stdout",
          "text": [
            "{1, 2, 3, 4, 5}\n"
          ]
        }
      ]
    },
    {
      "cell_type": "markdown",
      "source": [
        " 20.. Write a code to find the intersection of two sets {1, 2, 3} and {2, 3, 4}."
      ],
      "metadata": {
        "id": "epr5awfICWih"
      }
    },
    {
      "cell_type": "code",
      "source": [
        " # intersection sets\n",
        "set1 = {1, 2, 3}\n",
        "set2 = {2, 3, 4}"
      ],
      "metadata": {
        "id": "PwC5FS_mCtjR"
      },
      "execution_count": null,
      "outputs": []
    },
    {
      "cell_type": "code",
      "source": [
        "set1 & set2\n"
      ],
      "metadata": {
        "colab": {
          "base_uri": "https://localhost:8080/"
        },
        "id": "c8Vds8mDFaYB",
        "outputId": "4ab7b7c7-965b-4534-a7d6-dc216a5c190f"
      },
      "execution_count": null,
      "outputs": [
        {
          "output_type": "execute_result",
          "data": {
            "text/plain": [
              "{2, 3}"
            ]
          },
          "metadata": {},
          "execution_count": 125
        }
      ]
    },
    {
      "cell_type": "markdown",
      "source": [
        " 21. Write a code to create a dictionary with the keys \"name\", \"age\", and \"city\", and print it."
      ],
      "metadata": {
        "id": "VrvU4nOJILxV"
      }
    },
    {
      "cell_type": "code",
      "source": [
        "  # Create the dictionary\n",
        "person = {\n",
        "    \"name\": \"surbhi\",\n",
        "    \"age\": 21,\n",
        "    \"city\": \"patna bihar\"\n",
        "}"
      ],
      "metadata": {
        "id": "t6kGTiXtxpYk"
      },
      "execution_count": null,
      "outputs": []
    },
    {
      "cell_type": "code",
      "source": [
        " person"
      ],
      "metadata": {
        "colab": {
          "base_uri": "https://localhost:8080/"
        },
        "id": "UPBUpc3mxs0X",
        "outputId": "eec659d2-c311-461f-ed2f-39cdb45be03a"
      },
      "execution_count": null,
      "outputs": [
        {
          "output_type": "execute_result",
          "data": {
            "text/plain": [
              "{'name': 'surbhi', 'age': 21, 'city': 'patna bihar'}"
            ]
          },
          "metadata": {},
          "execution_count": 2
        }
      ]
    },
    {
      "cell_type": "markdown",
      "source": [
        " 22. Write a code to add a new key-value pair \"country\": \"USA\" to the dictionary {'name': 'John', 'age': 25}."
      ],
      "metadata": {
        "id": "q8kH9vJgLeil"
      }
    },
    {
      "cell_type": "code",
      "source": [
        " # Existing dictionary\n",
        "person = {'name': 'John', 'age': 25}"
      ],
      "metadata": {
        "id": "0OwknTGjLpQf"
      },
      "execution_count": null,
      "outputs": []
    },
    {
      "cell_type": "code",
      "source": [
        " # Add new key-value pair \"country\"\n",
        "person['country'] = 'USA'\n",
        "print(person)"
      ],
      "metadata": {
        "colab": {
          "base_uri": "https://localhost:8080/"
        },
        "id": "wLqIk6J4y37r",
        "outputId": "a4892cf9-f8f3-470b-fff6-7f3784dfdd51"
      },
      "execution_count": null,
      "outputs": [
        {
          "output_type": "stream",
          "name": "stdout",
          "text": [
            "{'name': 'John', 'age': 25, 'country': 'USA'}\n"
          ]
        }
      ]
    },
    {
      "cell_type": "markdown",
      "source": [
        " 23. . Write a code to access the value associated with the key \"name\" in the dictionary {'name': 'Alice', 'age': 30}."
      ],
      "metadata": {
        "id": "EvF3mCiYLlHr"
      }
    },
    {
      "cell_type": "code",
      "source": [
        " # Dictionary\n",
        "person = {'name': 'Alice', 'age': 30}"
      ],
      "metadata": {
        "id": "1xBIRLywy2aE"
      },
      "execution_count": null,
      "outputs": []
    },
    {
      "cell_type": "code",
      "source": [
        " # Access the value of the key \"name\"\n",
        "name_value = person['name']\n",
        "print(name_value)"
      ],
      "metadata": {
        "id": "4wMWfW-ZLvl_",
        "colab": {
          "base_uri": "https://localhost:8080/"
        },
        "outputId": "5a23dc02-2ce4-4a97-947d-0483746549dc"
      },
      "execution_count": null,
      "outputs": [
        {
          "output_type": "stream",
          "name": "stdout",
          "text": [
            "Alice\n"
          ]
        }
      ]
    },
    {
      "cell_type": "markdown",
      "source": [
        " 24. Write a code to remove the key \"age\" from the dictionary {'name': 'Bob', 'age': 22, 'city': 'New York'}."
      ],
      "metadata": {
        "id": "2VOR2pazLwDV"
      }
    },
    {
      "cell_type": "code",
      "source": [
        "# Original dictionary\n",
        "person = {'name': 'Bob', 'age': 22, 'city': 'New York'}\n"
      ],
      "metadata": {
        "id": "sZ6HyvdEL4uO"
      },
      "execution_count": null,
      "outputs": []
    },
    {
      "cell_type": "code",
      "source": [
        " # Remove the key \"age\"\n",
        "del person['age']\n",
        "print(person)\n"
      ],
      "metadata": {
        "colab": {
          "base_uri": "https://localhost:8080/"
        },
        "id": "epradxvYzzJy",
        "outputId": "c2bf8efa-ef28-45f8-a258-ad9bc5d3a2a3"
      },
      "execution_count": null,
      "outputs": [
        {
          "output_type": "stream",
          "name": "stdout",
          "text": [
            "{'name': 'Bob', 'city': 'New York'}\n"
          ]
        }
      ]
    },
    {
      "cell_type": "markdown",
      "source": [
        " 25. Write a code to check if the key \"city\" exists in the dictionary {'name': 'Alice', 'city': 'Paris'}."
      ],
      "metadata": {
        "id": "SNHueRBlMP2G"
      }
    },
    {
      "cell_type": "code",
      "source": [
        " # Dictionary\n",
        "person = {'name': 'Alice', 'city': 'Paris'}"
      ],
      "metadata": {
        "id": "50YRUGilMd1E"
      },
      "execution_count": null,
      "outputs": []
    },
    {
      "cell_type": "code",
      "source": [
        "  #Check if \"city\" key exists\n",
        "if 'city' in person:\n",
        "    print(\"Key 'city' exists in the dictionary.\")\n",
        "else:\n",
        "    print(\"Key 'city' does not exist in the dictionary.\")\n"
      ],
      "metadata": {
        "id": "ySnh6yir0FB5",
        "colab": {
          "base_uri": "https://localhost:8080/"
        },
        "outputId": "29cc1987-78fe-4cf8-de0d-e906b0808496"
      },
      "execution_count": 15,
      "outputs": [
        {
          "output_type": "stream",
          "name": "stdout",
          "text": [
            "Key 'city' exists in the dictionary.\n"
          ]
        }
      ]
    },
    {
      "cell_type": "markdown",
      "source": [
        " 26. 6. Write a code to create a list, a tuple, and a dictionary, and print them all."
      ],
      "metadata": {
        "id": "LbCEPnttMQ14"
      }
    },
    {
      "cell_type": "code",
      "source": [
        "my_list = [1, 2, 3, 4, 5]  # Create a list\n",
        "my_tuple = ('apple', 'banana', 'cherry') # Create a tuple\n",
        "my_dict = {'name': 'Alice', 'age': 30, 'city': 'Paris'} # Create a dictionary"
      ],
      "metadata": {
        "id": "paDqx_t9Me63"
      },
      "execution_count": 17,
      "outputs": []
    },
    {
      "cell_type": "code",
      "source": [
        " print(\"List:\", my_list)\n",
        "print(\"Tuple:\", my_tuple)\n",
        "print(\"Dictionary:\", my_dict)\n"
      ],
      "metadata": {
        "colab": {
          "base_uri": "https://localhost:8080/"
        },
        "id": "p-Tc8iWq01_o",
        "outputId": "9249f3cd-4c47-4117-843a-0ebb93c0d257"
      },
      "execution_count": 18,
      "outputs": [
        {
          "output_type": "stream",
          "name": "stdout",
          "text": [
            "List: [1, 2, 3, 4, 5]\n",
            "Tuple: ('apple', 'banana', 'cherry')\n",
            "Dictionary: {'name': 'Alice', 'age': 30, 'city': 'Paris'}\n"
          ]
        }
      ]
    },
    {
      "cell_type": "markdown",
      "source": [
        " 27.  Write a code to create a list of 5 random numbers between 1 and 100, sort it in ascending order, and print the\n",
        "result.(replaced)"
      ],
      "metadata": {
        "id": "t73PPMbVMROE"
      }
    },
    {
      "cell_type": "code",
      "source": [
        "# Create a list of 5 random numbers between 1 and 100\n",
        "random_numbers = [random.randint(1, 100)\n",
        "       for _ in range(5)]\n",
        "\n",
        "random_numbers.sort() # Sort the list in ascending order"
      ],
      "metadata": {
        "id": "SU1IH3u9Mj0X"
      },
      "execution_count": 22,
      "outputs": []
    },
    {
      "cell_type": "code",
      "source": [
        " print(\"Sorted list:\", random_numbers)"
      ],
      "metadata": {
        "colab": {
          "base_uri": "https://localhost:8080/"
        },
        "id": "-Jk8280B1e_p",
        "outputId": "eda14eb4-3029-4fbc-d98d-b638a5a07ea2"
      },
      "execution_count": 28,
      "outputs": [
        {
          "output_type": "stream",
          "name": "stdout",
          "text": [
            "Sorted list: [25, 44, 71, 91, 91]\n"
          ]
        }
      ]
    },
    {
      "cell_type": "markdown",
      "source": [
        " 28. Write a code to create a list with strings and print the element at the third index."
      ],
      "metadata": {
        "id": "ZYmCOI1BMReg"
      }
    },
    {
      "cell_type": "code",
      "source": [
        " # Create a list with strings\n",
        "fruits = [\"apple\", \"banana\", \"cherry\", \"orange\", \"grape\"]"
      ],
      "metadata": {
        "id": "0IuepRt0MrD3"
      },
      "execution_count": 31,
      "outputs": []
    },
    {
      "cell_type": "code",
      "source": [
        "\n",
        "print(\"Element at index 3:\", fruits[3])"
      ],
      "metadata": {
        "colab": {
          "base_uri": "https://localhost:8080/"
        },
        "id": "06EEVu4W3iaz",
        "outputId": "e0ecf9b9-3a61-4b0a-8032-2505f634780f"
      },
      "execution_count": 32,
      "outputs": [
        {
          "output_type": "stream",
          "name": "stdout",
          "text": [
            "Element at index 3: orange\n"
          ]
        }
      ]
    },
    {
      "cell_type": "markdown",
      "source": [
        " 29. Write a code to combine two dictionaries into one and print the result."
      ],
      "metadata": {
        "id": "MX9KQsLxMRsz"
      }
    },
    {
      "cell_type": "code",
      "source": [
        " # Two dictionaries\n",
        "dict1 = {'a': 1, 'b': 2}\n",
        "dict2 = {'c': 3, 'd': 4}\n"
      ],
      "metadata": {
        "id": "f9aXwrO63ih4"
      },
      "execution_count": 33,
      "outputs": []
    },
    {
      "cell_type": "code",
      "source": [
        " # Combine two dictionaries\n",
        "combined_dict = {**dict1, **dict2}\n",
        "print(\"Combined dictionary:\", combined_dict)"
      ],
      "metadata": {
        "id": "wanmNaYYMxJb",
        "colab": {
          "base_uri": "https://localhost:8080/"
        },
        "outputId": "ff656779-f9f6-4d8e-9ac1-4cdf588551af"
      },
      "execution_count": 34,
      "outputs": [
        {
          "output_type": "stream",
          "name": "stdout",
          "text": [
            "Combined dictionary: {'a': 1, 'b': 2, 'c': 3, 'd': 4}\n"
          ]
        }
      ]
    },
    {
      "cell_type": "markdown",
      "source": [
        " 30. Write a code to convert a list of strings into a set."
      ],
      "metadata": {
        "id": "YlBdDmMiMR6W"
      }
    },
    {
      "cell_type": "code",
      "source": [
        " # List of strings\n",
        "string_list = [\"apple\", \"banana\", \"cherry\", \"apple\", \"banana\"]"
      ],
      "metadata": {
        "id": "hSHSqFZxM2LB"
      },
      "execution_count": 35,
      "outputs": []
    },
    {
      "cell_type": "code",
      "source": [
        " # Convert list to set\n",
        "string_set = set(string_list)\n",
        "print(\"Set:\", string_set)\n"
      ],
      "metadata": {
        "colab": {
          "base_uri": "https://localhost:8080/"
        },
        "id": "z32IT2e84wWY",
        "outputId": "5c4544d8-ce4f-4a26-e092-65bf2e27e54d"
      },
      "execution_count": 36,
      "outputs": [
        {
          "output_type": "stream",
          "name": "stdout",
          "text": [
            "Set: {'cherry', 'apple', 'banana'}\n"
          ]
        }
      ]
    }
  ]
}